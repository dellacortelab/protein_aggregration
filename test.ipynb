{
 "cells": [
  {
   "cell_type": "code",
   "execution_count": 24,
   "metadata": {},
   "outputs": [
    {
     "name": "stdout",
     "output_type": "stream",
     "text": [
      "Step 1: 6292 proteins aggregated\n",
      "Step 2: 12509 proteins aggregated\n",
      "Step 3: 18715 proteins aggregated\n",
      "Step 4: 24750 proteins aggregated\n",
      "Step 5: 30764 proteins aggregated\n",
      "Step 6: 36863 proteins aggregated\n",
      "Step 7: 42899 proteins aggregated\n",
      "Step 8: 48906 proteins aggregated\n"
     ]
    }
   ],
   "source": [
    "import numpy as np\n",
    "\n",
    "width, height, depth = 100, 100, 100\n",
    "\n",
    "def create_box(width, height, depth):\n",
    "    box = np.zeros((width, height, depth), dtype=bool)\n",
    "    return box\n",
    "\n",
    "def aggregate_unfolded_proteins_in_box(box):\n",
    "    updated_box = box.copy()\n",
    "    width, height, depth = box.shape\n",
    "    \n",
    "    #TODO: instead of for loop consider a 3x3 kernel convolution that calculates the sum. If the sum is greater than 1 aggregate?\n",
    "    for x in range(1, width - 1):\n",
    "        for y in range(1, height - 1):\n",
    "            for z in range(1, depth - 1):\n",
    "                if box[x, y, z] and box[x-1, y, z] and box[x+1, y, z]:\n",
    "                    updated_box[x, y, z] = -1\n",
    "                elif box[x, y, z] and box[x, y-1, z] and box[x, y+1, z]:\n",
    "                    updated_box[x, y, z] = -1\n",
    "                elif box[x, y, z] and box[x, y, z-1] and box[x, y, z+1]:\n",
    "                    updated_box[x, y, z] = -1\n",
    "    \n",
    "    return updated_box\n",
    "\n",
    "def unfold_proteins_in_box(box, percentage=0.1):\n",
    "\n",
    "    width, height, depth = box.shape\n",
    "\n",
    "    standard_deviation = 1\n",
    "    box2 = np.random.normal(loc=0, scale=standard_deviation, size=(width, height, depth))\n",
    "\n",
    "    #wherever box2 is greater than 2.5 consider as unfolded - use Z statstitics instead later on to go from % to cutoff\n",
    "    indices = np.where(box2 > 2.5)\n",
    "    box[indices] = True\n",
    "    return box\n",
    "\n",
    "# Example usage\n",
    "box = create_box(width, height, depth)\n",
    "steps = 8\n",
    "\n",
    "for i in range(steps):\n",
    "    box = unfold_proteins_in_box(box)\n",
    "    box = aggregate_unfolded_proteins_in_box(box)\n",
    "    print(f\"Step {i+1}: {np.sum(box)} proteins aggregated\")\n",
    "    \n",
    "#TODO:\n",
    "    #1. Instead of filling the grid with proteins, create a realistic size box based on volume \n",
    "    #2. Chop the box into voxels, size of a globular protein\n",
    "    #3. Then use the concentration and average size of globular protein to fill a percentage of the box\n",
    "    #4. Then use the above code to unfold and aggregate the proteins\n",
    "    #5. Consider the size of an unfolded protein, it might span more then one voxel - thereby increasing chances of aggregation\n",
    "    #7. improve speed by randomly drawing indices of the box instead of drawing all random numbers\n",
    "    #8. Aggregation could be modeled not by direct neighbors, but two aggregated proteins in a 5x5 box.\n",
    "        #8a. run a 5x5x5 kernel convolution that calculates the sum. If the sum is greater than 1 aggregate?\n",
    "    #9. Randomly sample a % of Indices of all folded proteins to re-fold\n",
    "\n",
    "#Needed objects:\n",
    "    #1. General volume\n",
    "    #2. state of voxel: empty, contains folded, unfolded, or aggregated\n",
    "    #3. unfolding probability\n",
    "    #4. aggregation probability\n",
    "    #5. re-folding probability\n",
    "    #6. size of a globular protein\n",
    "    #7. concentration of proteins\n",
    "    \n",
    "\n"
   ]
  },
  {
   "cell_type": "code",
   "execution_count": 9,
   "metadata": {},
   "outputs": [
    {
     "name": "stdout",
     "output_type": "stream",
     "text": [
      "1.1111111111111113e+22\n",
      "% of filled voxels:  0.00023712201621462923\n"
     ]
    }
   ],
   "source": [
    "import numpy as np\n",
    "#Make the box:\n",
    "#1 ml is 1 cm^3\n",
    "box_size = 0.01 #m\n",
    "\n",
    "protein_concentration = 10**-6 #1 uM\n",
    "\n",
    "avogadro = 6.02214076e23 #1/mol\n",
    "\n",
    "number_of_proteins = protein_concentration * box_size**3 * avogadro\n",
    "\n",
    "#or from weight\n",
    "#each protein weighs 80kda or 1.32843e-19 g\n",
    "#3.5mg/ml as example\n",
    "number_of_proteins = 3.5 / (1.32843e-19 * 1000)\n",
    "\n",
    "#Diameter of protein is roughly 90 Angstrom\n",
    "protein_volume = 4/3 * np.pi * (90e-10)**3 #m^3\n",
    "\n",
    "#Number of voxels in the box\n",
    "number_of_voxels = box_size**3 / protein_size\n",
    "print(number_of_voxels)\n",
    "\n",
    "print(\"% of filled voxels: \", number_of_proteins / number_of_voxels * 100)\n",
    "\n"
   ]
  },
  {
   "cell_type": "code",
   "execution_count": 21,
   "metadata": {},
   "outputs": [
    {
     "data": {
      "text/plain": [
       "0"
      ]
     },
     "execution_count": 21,
     "metadata": {},
     "output_type": "execute_result"
    }
   ],
   "source": []
  },
  {
   "cell_type": "code",
   "execution_count": null,
   "metadata": {},
   "outputs": [],
   "source": []
  }
 ],
 "metadata": {
  "kernelspec": {
   "display_name": "zontal",
   "language": "python",
   "name": "python3"
  },
  "language_info": {
   "codemirror_mode": {
    "name": "ipython",
    "version": 3
   },
   "file_extension": ".py",
   "mimetype": "text/x-python",
   "name": "python",
   "nbconvert_exporter": "python",
   "pygments_lexer": "ipython3",
   "version": "3.10.6"
  }
 },
 "nbformat": 4,
 "nbformat_minor": 2
}
