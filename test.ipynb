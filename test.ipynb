{
 "cells": [
  {
   "cell_type": "code",
   "execution_count": 25,
   "metadata": {},
   "outputs": [
    {
     "name": "stdout",
     "output_type": "stream",
     "text": [
      "/Users/dennisdellacorte/Library/CloudStorage/Box-Box/Collaborations/nhanes/src\n"
     ]
    }
   ],
   "source": [
    "def create_volume():\n",
    "    volume_size = 10000000000\n",
    "    voxel = [False] * volume_size\n",
    "    return voxel\n",
    "\n",
    "v = create_volume\n",
    "\n",
    "!pwd"
   ]
  },
  {
   "cell_type": "code",
   "execution_count": null,
   "metadata": {},
   "outputs": [],
   "source": []
  },
  {
   "cell_type": "code",
   "execution_count": null,
   "metadata": {},
   "outputs": [
    {
     "ename": "",
     "evalue": "",
     "output_type": "error",
     "traceback": [
      "\u001b[1;31mThe Kernel crashed while executing code in the the current cell or a previous cell. Please review the code in the cell(s) to identify a possible cause of the failure. Click <a href='https://aka.ms/vscodeJupyterKernelCrash'>here</a> for more info. View Jupyter <a href='command:jupyter.viewOutput'>log</a> for further details."
     ]
    }
   ],
   "source": [
    "import random\n",
    "\n",
    "def update_voxels(voxel, percentage):\n",
    "    updated_voxel = voxel.copy()\n",
    "    num_voxels = len(voxel)\n",
    "    num_updates = int(num_voxels * percentage)\n",
    "    \n",
    "    for _ in range(num_updates):\n",
    "        index = random.randint(0, num_voxels - 1)\n",
    "        updated_voxel[index] = True\n",
    "        \n",
    "        # Update neighbors\n",
    "        x, y, z = index % 100, (index // 100) % 100, index // 10000\n",
    "        neighbors = [(x-1, y, z), (x+1, y, z), (x, y-1, z), (x, y+1, z), (x, y, z-1), (x, y, z+1)]\n",
    "        \n",
    "        for neighbor in neighbors:\n",
    "            nx, ny, nz = neighbor\n",
    "            if 0 <= nx < 100 and 0 <= ny < 100 and 0 <= nz < 100:\n",
    "                neighbor_index = nx + ny * 100 + nz * 10000\n",
    "                updated_voxel[neighbor_index] = True\n",
    "    \n",
    "    return updated_voxel\n",
    "\n",
    "# Example usage\n",
    "voxel = create_volume()\n",
    "updated_voxel = update_voxels(voxel, 0.1)\n"
   ]
  },
  {
   "cell_type": "code",
   "execution_count": 12,
   "metadata": {},
   "outputs": [],
   "source": [
    "import numpy as np\n",
    "\n",
    "\n",
    "\n"
   ]
  },
  {
   "cell_type": "code",
   "execution_count": 24,
   "metadata": {},
   "outputs": [
    {
     "name": "stdout",
     "output_type": "stream",
     "text": [
      "Step 1: 6292 proteins aggregated\n",
      "Step 2: 12509 proteins aggregated\n",
      "Step 3: 18715 proteins aggregated\n",
      "Step 4: 24750 proteins aggregated\n",
      "Step 5: 30764 proteins aggregated\n",
      "Step 6: 36863 proteins aggregated\n",
      "Step 7: 42899 proteins aggregated\n",
      "Step 8: 48906 proteins aggregated\n"
     ]
    }
   ],
   "source": [
    "import numpy as np\n",
    "\n",
    "width, height, depth = 100, 100, 100\n",
    "\n",
    "def create_box(width, height, depth):\n",
    "    box = np.zeros((width, height, depth), dtype=bool)\n",
    "    return box\n",
    "\n",
    "def aggregate_unfolded_proteins_in_box(box):\n",
    "    updated_box = box.copy()\n",
    "    width, height, depth = box.shape\n",
    "    \n",
    "    for x in range(1, width - 1):\n",
    "        for y in range(1, height - 1):\n",
    "            for z in range(1, depth - 1):\n",
    "                if box[x, y, z] and box[x-1, y, z] and box[x+1, y, z]:\n",
    "                    updated_box[x, y, z] = -1\n",
    "                elif box[x, y, z] and box[x, y-1, z] and box[x, y+1, z]:\n",
    "                    updated_box[x, y, z] = -1\n",
    "                elif box[x, y, z] and box[x, y, z-1] and box[x, y, z+1]:\n",
    "                    updated_box[x, y, z] = -1\n",
    "    \n",
    "    return updated_box\n",
    "\n",
    "def unfold_proteins_in_box(box, percentage=0.1):\n",
    "\n",
    "    width, height, depth = box.shape\n",
    "\n",
    "    standard_deviation = 1\n",
    "    box2 = np.random.normal(loc=0, scale=standard_deviation, size=(width, height, depth))\n",
    "\n",
    "    #wherever box2 is greater than 2.5 consider as unfolded - use Z statstitics instead later on to go from % to cutoff\n",
    "    indices = np.where(box2 > 2.5)\n",
    "    box[indices] = True\n",
    "    return box\n",
    "\n",
    "# Example usage\n",
    "\n",
    "box = create_box(width, height, depth)\n",
    "steps = 8\n",
    "\n",
    "for i in range(steps):\n",
    "    box = unfold_proteins_in_box(box)\n",
    "    box = aggregate_unfolded_proteins_in_box(box)\n",
    "    print(f\"Step {i+1}: {np.sum(box)} proteins aggregated\")\n",
    "    \n",
    "\n"
   ]
  },
  {
   "cell_type": "code",
   "execution_count": 19,
   "metadata": {},
   "outputs": [],
   "source": [
    "import numpy as np\n",
    "\n"
   ]
  },
  {
   "cell_type": "code",
   "execution_count": 21,
   "metadata": {},
   "outputs": [
    {
     "data": {
      "text/plain": [
       "0"
      ]
     },
     "execution_count": 21,
     "metadata": {},
     "output_type": "execute_result"
    }
   ],
   "source": []
  },
  {
   "cell_type": "code",
   "execution_count": null,
   "metadata": {},
   "outputs": [],
   "source": []
  }
 ],
 "metadata": {
  "kernelspec": {
   "display_name": "zontal",
   "language": "python",
   "name": "python3"
  },
  "language_info": {
   "codemirror_mode": {
    "name": "ipython",
    "version": 3
   },
   "file_extension": ".py",
   "mimetype": "text/x-python",
   "name": "python",
   "nbconvert_exporter": "python",
   "pygments_lexer": "ipython3",
   "version": "3.10.6"
  }
 },
 "nbformat": 4,
 "nbformat_minor": 2
}
